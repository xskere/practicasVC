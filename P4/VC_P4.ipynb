{
 "cells": [
  {
   "cell_type": "markdown",
   "metadata": {},
   "source": [
    "Detección de caras con webcam"
   ]
  },
  {
   "cell_type": "code",
   "execution_count": 2,
   "metadata": {},
   "outputs": [],
   "source": [
    "import cv2\n",
    "import dlib\n",
    "from math import hypot\n",
    "from math import atan2\n",
    "from math import pi"
   ]
  },
  {
   "cell_type": "code",
   "execution_count": 6,
   "metadata": {},
   "outputs": [],
   "source": [
    "def rotate_image(image, angle, filter_name):\n",
    "    image_center = (775,700)\n",
    "    rot_mat = cv2.getRotationMatrix2D(image_center, angle, 1.0)\n",
    "    result = cv2.warpAffine(image, rot_mat, image.shape[1::-1], flags=cv2.INTER_LINEAR)\n",
    "    return result\n",
    "\n",
    "\n",
    "filter_name = 'thug.png'\n",
    "showLandmark = 'true'\n",
    "\n",
    "\n",
    "cap = cv2.VideoCapture(0)\n",
    "\n",
    "\n",
    "detector = dlib.get_frontal_face_detector()\n",
    "predictor = dlib.shape_predictor(\"shape_predictor_68_face_landmarks.dat\")\n",
    "\n",
    "\n",
    "while True:\n",
    "    Sucess, img = cap.read()\n",
    "    img = cv2.flip(img, 1)\n",
    "    \n",
    "    imgGray = cv2.cvtColor(img, cv2.COLOR_BGR2GRAY)\n",
    "    faces = detector(img)\n",
    "    for face in faces:\n",
    "        landmarks = predictor(imgGray, face)\n",
    "        top_nose = (landmarks.part(29).x, landmarks.part(29).y)\n",
    "        center_nose = (landmarks.part(30).x, landmarks.part(30).y)\n",
    "        left_nose = (landmarks.part(31).x, landmarks.part(31).y)\n",
    "        right_eye = (landmarks.part(45).x, landmarks.part(45).y)\n",
    "        left_mouth = (landmarks.part(48).x, landmarks.part(48).y)\n",
    "        right_mouth = (landmarks.part(54).x, landmarks.part(54).y)\n",
    "        left_eye = (landmarks.part(36).x, landmarks.part(36).y)\n",
    "        right_nose = (landmarks.part(35).x, landmarks.part(35).y)\n",
    "        up_mouth = (landmarks.part(51).x, landmarks.part(51).y)\n",
    "        down_mouth = (landmarks.part(57).x, landmarks.part(57).y)\n",
    "        down_face = (landmarks.part(8).x, landmarks.part(8).y)\n",
    "      \n",
    "        \n",
    "        front_filter = cv2.imread('./filters/'+filter_name)\n",
    "        front_filter = cv2.copyMakeBorder(front_filter, 500, 500, 500, 500, cv2.BORDER_CONSTANT, value=[0,0,0,0])\n",
    "        rotation = -atan2(right_eye[1]-left_eye[1],right_eye[0]-left_eye[0])/pi*180\n",
    "        front_filter = rotate_image(front_filter, rotation, filter_name)\n",
    "        \n",
    "        nose_width = int(hypot(left_eye[0]-right_eye[0], left_eye[1]-right_eye[1])*4.6)\n",
    "        nose_height = int(nose_width * 0.6708*1)\n",
    "        offset = int(nose_width*18/200)\n",
    "        top_left = (int(center_nose[0]-nose_width/2),int(center_nose[1]-nose_height/2)-offset)\n",
    "        bottom_right = (int(center_nose[0]+nose_width/2),int(center_nose[1]+nose_height/2)-offset)\n",
    "        \n",
    "        ffilter = cv2.resize(front_filter, (nose_width, nose_height))\n",
    "        filter_gray = cv2.cvtColor(ffilter, cv2.COLOR_BGR2GRAY)\n",
    "        _, filter_mask = cv2.threshold(filter_gray, 0, 255, cv2.THRESH_BINARY_INV)\n",
    "        \n",
    "        filter_area = img[max(0,top_left[1]):min(480,top_left[1]+nose_height),max(0,top_left[0]):min(640,top_left[0]+nose_width)]\n",
    "        filter_mask = filter_mask[max(0,-top_left[1]):max(0,-top_left[1])+filter_area.shape[0],max(0,-top_left[0]):max(0,-top_left[0])+filter_area.shape[1]]\n",
    "        \n",
    "        filter_alpha = cv2.bitwise_and(filter_area, filter_area, mask=filter_mask)\n",
    "        final_nose = cv2.add(filter_alpha, ffilter[max(0,-top_left[1]):filter_area.shape[0]+max(0,-top_left[1]),max(0,-top_left[0]):max(0,-top_left[0])+filter_area.shape[1]])\n",
    "\n",
    "        img[max(0,top_left[1]):min(480,top_left[1]+nose_height),max(0,top_left[0]):min(640,top_left[0]+nose_width)] = final_nose\n",
    "    \n",
    "    if showLandmark == 'true':\n",
    "        for i in range(68):\n",
    "            cv2.circle(img, (landmarks.part(i).x, landmarks.part(i).y), radius=0, color=(0, 0, 255), thickness=5)\n",
    "        \n",
    "    cv2.imshow(\"Filtro\", img)\n",
    "    \n",
    "    tec = cv2.waitKey(40)\n",
    "    if tec & tec == 27:  # Esc\n",
    "        break\n",
    "    \n",
    "        \n",
    "cap.release()\n",
    "cv2.destroyAllWindows()"
   ]
  }
 ],
 "metadata": {
  "kernelspec": {
   "display_name": "Python 3.7.3 ('FACES')",
   "language": "python",
   "name": "python3"
  },
  "language_info": {
   "codemirror_mode": {
    "name": "ipython",
    "version": 3
   },
   "file_extension": ".py",
   "mimetype": "text/x-python",
   "name": "python",
   "nbconvert_exporter": "python",
   "pygments_lexer": "ipython3",
   "version": "3.10.7"
  },
  "vscode": {
   "interpreter": {
    "hash": "ea3a1ee99ce326e593ddb52cd278556d527fcb6552c40e2a47b1efb9d0183637"
   }
  }
 },
 "nbformat": 4,
 "nbformat_minor": 2
}
