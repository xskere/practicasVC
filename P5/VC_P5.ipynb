{
 "cells": [
  {
   "cell_type": "markdown",
   "metadata": {},
   "source": [
    "#Paquetes necesarios"
   ]
  },
  {
   "cell_type": "code",
   "execution_count": 1,
   "metadata": {},
   "outputs": [],
   "source": [
    "import cv2  \n",
    "import math \n",
    "\n",
    "from ultralytics import YOLO\n",
    "import easyocr\n",
    "import pytesseract\n",
    "import matplotlib.pyplot as plt\n",
    "import imutils\n",
    "import numpy as np\n",
    "\n"
   ]
  },
  {
   "cell_type": "code",
   "execution_count": 2,
   "metadata": {},
   "outputs": [],
   "source": [
    "# Función para leer matrículas usando easyOCR y procesamiento de imágenes\n",
    "def readLicensePlate(image):\n",
    "\n",
    "    gray = cv2.cvtColor(image, cv2.COLOR_BGR2GRAY)\n",
    "    blur = cv2.GaussianBlur(gray, (5, 5), 0)\n",
    "    _, thresh = cv2.threshold(blur, 0, 255, cv2.THRESH_BINARY + cv2.THRESH_OTSU)\n",
    "\n",
    "    reader = easyocr.Reader(['en'])\n",
    "\n",
    "    results = reader.readtext(thresh)\n",
    "\n",
    "    print(results)\n",
    "\n",
    "    cv2.imshow('OCR Result', thresh)\n",
    "    cv2.waitKey(0)\n",
    "    cv2.destroyAllWindows()\n",
    "\n",
    "    return results"
   ]
  },
  {
   "cell_type": "code",
   "execution_count": 3,
   "metadata": {},
   "outputs": [
    {
     "name": "stderr",
     "output_type": "stream",
     "text": [
      "\n",
      "0: 352x640 1 car, 110.0ms\n",
      "Speed: 4.0ms preprocess, 110.0ms inference, 2.0ms postprocess per image at shape (1, 3, 352, 640)\n",
      "Neither CUDA nor MPS are available - defaulting to CPU. Note: This module is much faster with a GPU.\n"
     ]
    },
    {
     "name": "stdout",
     "output_type": "stream",
     "text": [
      "0.5284552845528455\n",
      "[([[45, 71], [226, 71], [226, 123], [45, 123]], 'Klg2CA2555', 0.2791294109466633)]\n"
     ]
    },
    {
     "name": "stderr",
     "output_type": "stream",
     "text": [
      "Neither CUDA nor MPS are available - defaulting to CPU. Note: This module is much faster with a GPU.\n"
     ]
    },
    {
     "name": "stdout",
     "output_type": "stream",
     "text": [
      "[([[145, 71], [296, 71], [296, 122], [145, 122]], 'Klg1C425', 0.1803451281458457)]\n"
     ]
    },
    {
     "name": "stderr",
     "output_type": "stream",
     "text": [
      "Neither CUDA nor MPS are available - defaulting to CPU. Note: This module is much faster with a GPU.\n"
     ]
    },
    {
     "name": "stdout",
     "output_type": "stream",
     "text": [
      "[]\n",
      "[([[45, 71], [226, 71], [226, 123], [45, 123]], 'Klg2CA2555', 0.2791294109466633)]\n"
     ]
    }
   ],
   "source": [
    "# Función para determinar la ubicación de la matrícula\n",
    "def searchLicensePlate(image):\n",
    "    sizes = image.shape\n",
    "    imgcpy = image\n",
    "    result = 0\n",
    "    print(sizes[0]/sizes[1])\n",
    "    \n",
    "    # Ancho\n",
    "    if sizes[0]/sizes[1] < 0.6:\n",
    "        results = []\n",
    "        # Derecha\n",
    "        imgcpy = resizeImage(image, 0.4, 0, 0.2, 0.2)\n",
    "        results1 = readLicensePlate(imgcpy)\n",
    "        if results1:\n",
    "            results.append(results1)\n",
    "        imgcpy = image\n",
    "        # Centro\n",
    "        imgcpy = resizeImage(image, 0.2, 0.2, 0.2, 0.2)\n",
    "        results2 = readLicensePlate(imgcpy)\n",
    "        if results2:\n",
    "            results.append(results2)\n",
    "        imgcpy = image\n",
    "        # Izquierda\n",
    "        imgcpy = resizeImage(image, 0, 0.4, 0.2, 0.2)\n",
    "        results3 = readLicensePlate(imgcpy)\n",
    "        if results3:\n",
    "            results.append(results3)\n",
    "\n",
    "        resultsMax = 0\n",
    "        for r in results:\n",
    "            if r[0][2] > resultsMax:\n",
    "                resultsMax = r[0][2]\n",
    "        for r in results:\n",
    "            if r[0][2] == resultsMax:\n",
    "                result = r\n",
    "    # Alto\n",
    "    elif sizes[0]/sizes[1] > 1.4:\n",
    "        image = resizeImage(image, 0.2, 0.2, 0.6, 0.1)\n",
    "        result = readLicensePlate(image)\n",
    "    # Cuadrado\n",
    "    else:\n",
    "        image = resizeImage(image, 0.2, 0.2, 0.4, 0.1)\n",
    "        result = readLicensePlate(image)\n",
    "    print(result)\n",
    "\n",
    "# Función para redimensionar una imagen porcentualmente por cada uno de sus 4 lados\n",
    "def resizeImage(image, leftToRight, rightToLeft, topToBottom, bottomToTop):\n",
    "    sizes = image.shape\n",
    "    subImg = image[round(sizes[0]*topToBottom):sizes[0]-round(sizes[0]*bottomToTop),round(sizes[1]*leftToRight):sizes[1]-round(sizes[1]*rightToLeft)]\n",
    "\n",
    "    return subImg\n",
    "\n",
    "# Función para usar un modelo de YOLO\n",
    "def useModel(pathModel, img, license):\n",
    "    model = YOLO(pathModel)\n",
    "    resultsModel = model(img, stream=True)\n",
    "    boxesFiltered = []\n",
    "    for r in resultsModel:\n",
    "        boxes = r.boxes\n",
    "        for box in boxes:\n",
    "            cls = int(box.cls[0])\n",
    "            if not license:\n",
    "                if cls != 2:\n",
    "                    continue\n",
    "            boxesFiltered.append(box)\n",
    "    return boxesFiltered\n",
    "\n",
    "# Función para mostrar los resultados obtenidos de un modelo YOLO\n",
    "def printResultsInImage(boxes, img):\n",
    "    i = 0\n",
    "    for box in boxes:\n",
    "        x1, y1, x2, y2 = box.xyxy[0]\n",
    "        x1, y1, x2, y2 = int(x1), int(y1), int(x2), int(y2)\n",
    "\n",
    "        cls = int(box.cls[0])\n",
    "\n",
    "        if cls == 2:\n",
    "            # print(\"Class name --> car\")\n",
    "            cv2.putText(img, 'car', [x1, y1], cv2.FONT_HERSHEY_SIMPLEX, 1, (0, 0, 0), 2)\n",
    "        else:\n",
    "            # print(\"Class name --> license\")\n",
    "            cv2.putText(img, 'license', [x1, y1], cv2.FONT_HERSHEY_SIMPLEX, 1, (0, 0, 0), 2)\n",
    "\n",
    "        cv2.rectangle(img, (x1, y1), (x2, y2), (0, 0, 0), 3)\n",
    "            \n",
    "        subImg = img[y1:y2,x1:x2]\n",
    "        searchLicensePlate(subImg)\n",
    "\n",
    "        i += 1\n",
    "        cv2.imwrite('images/result' + str(i) + '.jpg', subImg)\n",
    "\n",
    "    cv2.imwrite('images/result.jpg', img)\n",
    "    # cv2.imshow('', img)\n",
    "    # cv2.waitKey(0)\n",
    "    # cv2.destroyAllWindows()\n",
    "\n",
    "img = cv2.imread('images/images/Cars0.png')\n",
    "boxes = useModel('yolov8n.pt', img, False)\n",
    "printResultsInImage(boxes, img)"
   ]
  },
  {
   "cell_type": "code",
   "execution_count": 4,
   "metadata": {},
   "outputs": [
    {
     "name": "stderr",
     "output_type": "stream",
     "text": [
      "\n",
      "0: 416x640 2 cars, 1 truck, 112.1ms\n",
      "Speed: 2.0ms preprocess, 112.1ms inference, 3.0ms postprocess per image at shape (1, 3, 416, 640)\n",
      "\n",
      "0: 640x320 (no detections), 85.7ms\n",
      "Speed: 1.0ms preprocess, 85.7ms inference, 1.0ms postprocess per image at shape (1, 3, 640, 320)\n",
      "\n",
      "0: 416x640 1 licence, 75.4ms\n",
      "Speed: 2.0ms preprocess, 75.4ms inference, 1.0ms postprocess per image at shape (1, 3, 416, 640)\n",
      "Neither CUDA nor MPS are available - defaulting to CPU. Note: This module is much faster with a GPU.\n"
     ]
    },
    {
     "name": "stdout",
     "output_type": "stream",
     "text": [
      "[([[12, 0], [123, 0], [123, 27], [12, 27]], 'PG  MNN112', 0.11636282628909486)]\n",
      "PG  MNN112\n"
     ]
    }
   ],
   "source": [
    "# Función para mezclar modelos de YOLO, de detección de vehículos y de matrículas y así obtener resultados más precisos\n",
    "def mixModels(img):\n",
    "    boxesCars = useModel('yolov8n.pt', img, False)\n",
    "    results = []\n",
    "    imgcpy = img\n",
    "\n",
    "    for box in boxesCars:\n",
    "        x1, y1, x2, y2 = box.xyxy[0]\n",
    "        x1, y1, x2, y2 = int(x1), int(y1), int(x2), int(y2)\n",
    "        x1_1, y1_1, x2_1, y2_1 = int(x1), int(y1), int(x2), int(y2)\n",
    "\n",
    "        cv2.rectangle(img, (x1, y1), (x2, y2), (0, 0, 0), 3)\n",
    "\n",
    "        subImg = img[y1:y2,x1:x2]\n",
    "        # cv2.imshow('car', subImg)\n",
    "        # cv2.waitKey(0)\n",
    "        # cv2.destroyAllWindows()\n",
    "\n",
    "        boxesLicenses = useModel('yolov8n-licenseTrained.pt', subImg, True)\n",
    "        for boxL in boxesLicenses:\n",
    "            x1, y1, x2, y2 = boxL.xyxy[0]\n",
    "            x1, y1, x2, y2 = int(x1), int(y1), int(x2), int(y2)\n",
    "        \n",
    "            licenseImg = subImg[y1:y2,x1:x2]\n",
    "            results = readLicensePlate(licenseImg)\n",
    "            if results:\n",
    "                print(results[0][1])\n",
    "                cv2.rectangle(subImg, (x1, y1), (x2, y2), (0, 255, 0), 3)\n",
    "                cv2.putText(subImg, results[0][1] + '(' + str(round(results[0][2]*100, 2)) + '%)', (x1, y1), cv2.FONT_HERSHEY_SIMPLEX, 0.6, (255, 255, 255), 2)\n",
    "\n",
    "            imgcpy[y1_1:y2_1, x1_1:x2_1] = subImg\n",
    "\n",
    "        results.extend(boxesLicenses)\n",
    "\n",
    "    \n",
    "    # cv2.imshow('license', imgcpy)\n",
    "    # cv2.waitKey(0)\n",
    "    # cv2.destroyAllWindows()\n",
    "    \n",
    "    return results\n",
    "        \n",
    "        \n",
    "\n",
    "img = cv2.imread('images/images/Cars1.png')\n",
    "boxes = mixModels(img)"
   ]
  },
  {
   "cell_type": "code",
   "execution_count": 5,
   "metadata": {},
   "outputs": [
    {
     "name": "stdout",
     "output_type": "stream",
     "text": [
      "98\n"
     ]
    }
   ],
   "source": [
    "# Función para pobar el modelo mixto en un vídeo\n",
    "def videoTest(pathVideo, pathOutputVideo):\n",
    "    cap = cv2.VideoCapture(pathVideo)\n",
    "\n",
    "    if not cap.isOpened():\n",
    "        print(\"Error al abrir el vídeo\")    \n",
    "        exit()\n",
    "\n",
    "    width = int(cap.get(3))\n",
    "    height = int(cap.get(4))\n",
    "    fps = cap.get(5)\n",
    "\n",
    "    fourcc = cv2.VideoWriter_fourcc(*'H264')\n",
    "    out = cv2.VideoWriter(pathOutputVideo, fourcc, fps, (width, height))\n",
    "    \n",
    "    nFrames = 0\n",
    "    while True:\n",
    "        ret, frame = cap.read()\n",
    "\n",
    "        if not ret:\n",
    "            break\n",
    "        \n",
    "        nFrames += 1\n",
    "        if nFrames % 100 == 0:\n",
    "            mixModels(frame)\n",
    "            print(nFrames)\n",
    "            cv2.imshow('Video', frame)\n",
    "            key = cv2.waitKey(0) & 0xFF\n",
    "            \n",
    "        # mixModels(frame)\n",
    "        # out.write(frame)\n",
    "        \n",
    "        cv2.imshow('Video', frame)\n",
    "\n",
    "        if cv2.waitKey(1) & 0xFF == ord('q'):\n",
    "            break\n",
    "    \n",
    "    cap.release()\n",
    "    # out.release()\n",
    "    cv2.destroyAllWindows()\n",
    "    print(nFrames)\n",
    "\n",
    "\n",
    "videoTest('videos/Traffic IP Camera.mp4', 'videos/test1.mp4')"
   ]
  }
 ],
 "metadata": {
  "kernelspec": {
   "display_name": "Python 3.9.13 ('yolov7')",
   "language": "python",
   "name": "python3"
  },
  "language_info": {
   "codemirror_mode": {
    "name": "ipython",
    "version": 3
   },
   "file_extension": ".py",
   "mimetype": "text/x-python",
   "name": "python",
   "nbconvert_exporter": "python",
   "pygments_lexer": "ipython3",
   "version": "3.11.5"
  },
  "orig_nbformat": 4,
  "vscode": {
   "interpreter": {
    "hash": "54711ba1bddc392d48ca20e80feaa9b2e23d43069aa8b98ed16355091034ff6e"
   }
  }
 },
 "nbformat": 4,
 "nbformat_minor": 2
}
