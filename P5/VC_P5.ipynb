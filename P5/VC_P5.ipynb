{
 "cells": [
  {
   "cell_type": "markdown",
   "metadata": {},
   "source": [
    "#Paquetes necesarios"
   ]
  },
  {
   "cell_type": "code",
   "execution_count": 11,
   "metadata": {},
   "outputs": [],
   "source": [
    "import cv2  \n",
    "import math \n",
    "\n",
    "from ultralytics import YOLO\n",
    "import easyocr\n",
    "import pytesseract\n",
    "import matplotlib.pyplot as plt\n",
    "import imutils\n",
    "import numpy as np\n",
    "\n"
   ]
  },
  {
   "cell_type": "code",
   "execution_count": 12,
   "metadata": {},
   "outputs": [],
   "source": [
    "# Función para leer matrículas usando easyOCR y procesamiento de imágenes\n",
    "def readLicensePlate(image):\n",
    "\n",
    "    # Convertir a escala de grises\n",
    "    gray = cv2.cvtColor(image, cv2.COLOR_BGR2GRAY)\n",
    "\n",
    "    # Aplicar un filtro Gaussiano para suavizar la imagen y reducir el ruido\n",
    "    blur = cv2.GaussianBlur(gray, (5, 5), 0)\n",
    "\n",
    "    # Aplicar umbralización\n",
    "    _, thresh = cv2.threshold(blur, 0, 255, cv2.THRESH_BINARY + cv2.THRESH_OTSU)\n",
    "\n",
    "    # Crear un objeto Reader de EasyOCR\n",
    "    reader = easyocr.Reader(['en'])\n",
    "\n",
    "    # Obtener las regiones de texto utilizando EasyOCR\n",
    "    results = reader.readtext(thresh)\n",
    "\n",
    "    print(results)\n",
    "\n",
    "    # Imprimir los resultados\n",
    "    for (bbox, text, prob) in results:\n",
    "        (top_left, top_right, bottom_right, bottom_left) = bbox\n",
    "        cv2.rectangle(image, tuple(map(int, top_left)), tuple(map(int, bottom_right)), (0, 255, 0), 2)\n",
    "        cv2.putText(image, text, tuple(map(int, top_left)), cv2.FONT_HERSHEY_SIMPLEX, 0.8, (0, 255, 0), 2)\n",
    "\n",
    "    # Mostrar la imagen con los resultados\n",
    "    # cv2.imshow('OCR Result', image)\n",
    "    # cv2.waitKey(0)\n",
    "    # cv2.destroyAllWindows()\n",
    "\n",
    "    # if len(result) > 0: \n",
    "    #     print(\"Resultado: \" + result[0][1])\n",
    "    #     return result[0][2]\n",
    "    # else: \n",
    "    #     print(\"No se ha encontrado texto.\")\n",
    "    #     return None\n",
    "# img = cv2.imread('images/images/Cars3.png')\n",
    "# readLicensePlate(img)\n"
   ]
  },
  {
   "cell_type": "code",
   "execution_count": 13,
   "metadata": {},
   "outputs": [],
   "source": [
    "# Función para determinar la ubicación de la matrícula\n",
    "def searchLicensePlate(image, coords):\n",
    "    subImg = image[coords[2]:coords[3], coords[0]:coords[1]]\n",
    "    subImg = resizeImage(subImg, 0.2, 0.1, 0.4, 0.2)\n",
    "    return subImg\n",
    "\n",
    "# Función para redimensionar una imagen porcentualmente por cada uno de sus 4 lados\n",
    "def resizeImage(image, leftToRight, rightToLeft, topToBottom, bottomToTop):\n",
    "    sizes = image.shape\n",
    "    subImg = image[round(sizes[0]*topToBottom):sizes[0]-round(sizes[0]*bottomToTop),round(sizes[1]*leftToRight):sizes[1]-round(sizes[1]*rightToLeft)]\n",
    "\n",
    "    return subImg\n",
    "\n",
    "# Función para usar un modelo de YOLO\n",
    "def useModel(pathModel, img, license):\n",
    "    model = YOLO(pathModel)\n",
    "    resultsModel = model(img, stream=True)\n",
    "    boxesFiltered = []\n",
    "    for r in resultsModel:\n",
    "        boxes = r.boxes\n",
    "        for box in boxes:\n",
    "            cls = int(box.cls[0])\n",
    "            if not license:\n",
    "                if cls != 2:\n",
    "                    continue\n",
    "            boxesFiltered.append(box)\n",
    "    return boxesFiltered\n",
    "\n",
    "# Función para mostrar los resultados obtenidos de un modelo YOLO\n",
    "def printResultsInImage(boxes, img):\n",
    "    i = 0\n",
    "    for box in boxes:\n",
    "        x1, y1, x2, y2 = box.xyxy[0]\n",
    "        x1, y1, x2, y2 = int(x1), int(y1), int(x2), int(y2)\n",
    "                \n",
    "        # Confianza\n",
    "        confidence = math.ceil((box.conf[0]*100))/100\n",
    "        # print(\"Confidence --->\",confidence)\n",
    "\n",
    "        # Clase\n",
    "        cls = int(box.cls[0])\n",
    "\n",
    "        if cls == 2:\n",
    "            # print(\"Class name --> car\")\n",
    "            cv2.putText(img, 'car', [x1, y1], cv2.FONT_HERSHEY_SIMPLEX, 1, (0, 0, 0), 2)\n",
    "        else:\n",
    "            # print(\"Class name --> license\")\n",
    "            cv2.putText(img, 'license', [x1, y1], cv2.FONT_HERSHEY_SIMPLEX, 1, (0, 0, 0), 2)\n",
    "\n",
    "        cv2.rectangle(img, (x1, y1), (x2, y2), (0, 0, 0), 3)\n",
    "            \n",
    "        subImg = img[y1:y2,x1:x2]\n",
    "\n",
    "        i += 1\n",
    "        cv2.imwrite('images/result' + str(i) + '.jpg', subImg)\n",
    "\n",
    "        # readLicensePlate(subImg)\n",
    "\n",
    "    cv2.imwrite('images/result.jpg', img)\n",
    "    cv2.imshow('images/result.jpg', img)\n",
    "    cv2.waitKey(0)\n",
    "    cv2.destroyAllWindows()\n",
    "\n",
    "# img = cv2.imread('images/images/Cars104.png')\n",
    "# boxes = useModel('yolov8n.pt', img, False)\n",
    "# printResultsInImage(boxes, img)\n",
    "# mixModels(img, classNamesOriginalModel)\n",
    "# showResultsModel(results, classNamesOriginalModel, img)"
   ]
  },
  {
   "cell_type": "code",
   "execution_count": 21,
   "metadata": {},
   "outputs": [],
   "source": [
    "# Función para mezclar modelos de YOLO, de detección de vehículos y de matrículas y así obtener resultados más precisos\n",
    "def mixModels(img):\n",
    "    boxesCars = useModel('yolov8n.pt', img, False)\n",
    "    results = []\n",
    "    imgcpy = img\n",
    "\n",
    "    for box in boxesCars:\n",
    "        x1, y1, x2, y2 = box.xyxy[0]\n",
    "        x1, y1, x2, y2 = int(x1), int(y1), int(x2), int(y2)\n",
    "        x1_1, y1_1, x2_1, y2_1 = int(x1), int(y1), int(x2), int(y2)\n",
    "\n",
    "        cv2.rectangle(img, (x1, y1), (x2, y2), (0, 0, 0), 3)\n",
    "\n",
    "        subImg = img[y1:y2,x1:x2]\n",
    "        # cv2.imshow('car', subImg)\n",
    "        # cv2.waitKey(0)\n",
    "        # cv2.destroyAllWindows()\n",
    "\n",
    "        boxesLicenses = useModel('yolov8n-licenseTrained.pt', subImg, True)\n",
    "        for boxL in boxesLicenses:\n",
    "            x1, y1, x2, y2 = boxL.xyxy[0]\n",
    "            x1, y1, x2, y2 = int(x1), int(y1), int(x2), int(y2)\n",
    "\n",
    "            # cv2.rectangle(subImg, (x1, y1), (x2, y2), (0, 0, 0), 3)\n",
    "\n",
    "            licenseImg = subImg[y1:y2,x1:x2]\n",
    "\n",
    "            imgcpy[y1_1:y2_1, x1_1:x2_1] = subImg\n",
    "\n",
    "            readLicensePlate(licenseImg)\n",
    "\n",
    "            # cv2.imshow('license', licenseImg)\n",
    "            # cv2.waitKey(0)\n",
    "            # cv2.destroyAllWindows()\n",
    "        results.extend(boxesLicenses)\n",
    "    \n",
    "    return results\n",
    "        \n",
    "        \n",
    "\n",
    "# img = cv2.imread('images/images/Cars2.png')\n",
    "# boxes = mixModels(img)\n",
    "# printResultsInImage(boxes, img)"
   ]
  },
  {
   "cell_type": "code",
   "execution_count": 25,
   "metadata": {},
   "outputs": [
    {
     "name": "stderr",
     "output_type": "stream",
     "text": [
      "\n",
      "0: 384x640 2 persons, 5 cars, 95.8ms\n",
      "Speed: 0.0ms preprocess, 95.8ms inference, 0.6ms postprocess per image at shape (1, 3, 384, 640)\n",
      "\n",
      "0: 576x640 1 licence, 84.7ms\n",
      "Speed: 12.3ms preprocess, 84.7ms inference, 0.0ms postprocess per image at shape (1, 3, 576, 640)\n",
      "Neither CUDA nor MPS are available - defaulting to CPU. Note: This module is much faster with a GPU.\n"
     ]
    },
    {
     "name": "stdout",
     "output_type": "stream",
     "text": [
      "[([[0, 0], [87, 0], [87, 32], [0, 32]], 'JA 0254S', 0.4584285027473914)]\n"
     ]
    },
    {
     "name": "stderr",
     "output_type": "stream",
     "text": [
      "\n",
      "0: 608x640 1 licence, 254.1ms\n",
      "Speed: 16.9ms preprocess, 254.1ms inference, 0.0ms postprocess per image at shape (1, 3, 608, 640)\n",
      "Neither CUDA nor MPS are available - defaulting to CPU. Note: This module is much faster with a GPU.\n"
     ]
    },
    {
     "name": "stdout",
     "output_type": "stream",
     "text": [
      "[([[18, 0], [63, 0], [63, 22], [18, 22]], '164', 0.6142041683197021)]\n"
     ]
    },
    {
     "name": "stderr",
     "output_type": "stream",
     "text": [
      "\n",
      "0: 608x640 (no detections), 233.6ms\n",
      "Speed: 0.0ms preprocess, 233.6ms inference, 0.0ms postprocess per image at shape (1, 3, 608, 640)\n",
      "\n",
      "0: 640x640 (no detections), 238.6ms\n",
      "Speed: 3.2ms preprocess, 238.6ms inference, 0.0ms postprocess per image at shape (1, 3, 640, 640)\n",
      "\n",
      "0: 640x608 (no detections), 265.5ms\n",
      "Speed: 17.7ms preprocess, 265.5ms inference, 0.0ms postprocess per image at shape (1, 3, 640, 608)\n"
     ]
    },
    {
     "name": "stdout",
     "output_type": "stream",
     "text": [
      "100\n"
     ]
    },
    {
     "name": "stderr",
     "output_type": "stream",
     "text": [
      "\n",
      "0: 384x640 4 cars, 1 truck, 82.3ms\n",
      "Speed: 15.0ms preprocess, 82.3ms inference, 1.0ms postprocess per image at shape (1, 3, 384, 640)\n",
      "\n",
      "0: 576x640 1 licence, 100.5ms\n",
      "Speed: 16.4ms preprocess, 100.5ms inference, 0.0ms postprocess per image at shape (1, 3, 576, 640)\n",
      "Neither CUDA nor MPS are available - defaulting to CPU. Note: This module is much faster with a GPU.\n"
     ]
    },
    {
     "name": "stdout",
     "output_type": "stream",
     "text": [
      "[([[26, 2], [89, 2], [89, 33], [26, 33]], '82545', 0.9201809916128945)]\n"
     ]
    },
    {
     "name": "stderr",
     "output_type": "stream",
     "text": [
      "\n",
      "0: 608x640 (no detections), 269.4ms\n",
      "Speed: 1.3ms preprocess, 269.4ms inference, 0.0ms postprocess per image at shape (1, 3, 608, 640)\n",
      "\n",
      "0: 640x576 1 licence, 237.3ms\n",
      "Speed: 0.0ms preprocess, 237.3ms inference, 0.0ms postprocess per image at shape (1, 3, 640, 576)\n",
      "Neither CUDA nor MPS are available - defaulting to CPU. Note: This module is much faster with a GPU.\n"
     ]
    },
    {
     "name": "stdout",
     "output_type": "stream",
     "text": [
      "[([[29, 0], [101, 0], [101, 34], [29, 34]], 'RGogLi', 0.1134548270520548)]\n"
     ]
    },
    {
     "name": "stderr",
     "output_type": "stream",
     "text": [
      "\n",
      "0: 640x576 (no detections), 256.0ms\n",
      "Speed: 14.6ms preprocess, 256.0ms inference, 0.0ms postprocess per image at shape (1, 3, 640, 576)\n"
     ]
    },
    {
     "name": "stdout",
     "output_type": "stream",
     "text": [
      "200\n"
     ]
    },
    {
     "name": "stderr",
     "output_type": "stream",
     "text": [
      "\n",
      "0: 384x640 3 cars, 76.8ms\n",
      "Speed: 14.2ms preprocess, 76.8ms inference, 0.0ms postprocess per image at shape (1, 3, 384, 640)\n",
      "\n",
      "0: 576x640 1 licence, 104.8ms\n",
      "Speed: 16.6ms preprocess, 104.8ms inference, 0.0ms postprocess per image at shape (1, 3, 576, 640)\n",
      "Neither CUDA nor MPS are available - defaulting to CPU. Note: This module is much faster with a GPU.\n"
     ]
    },
    {
     "name": "stdout",
     "output_type": "stream",
     "text": [
      "[([[24, 0], [87, 0], [87, 31], [24, 31]], '8254S', 0.6050057686262117)]\n"
     ]
    },
    {
     "name": "stderr",
     "output_type": "stream",
     "text": [
      "\n",
      "0: 576x640 1 licence, 230.1ms\n",
      "Speed: 0.0ms preprocess, 230.1ms inference, 16.2ms postprocess per image at shape (1, 3, 576, 640)\n",
      "Neither CUDA nor MPS are available - defaulting to CPU. Note: This module is much faster with a GPU.\n"
     ]
    },
    {
     "name": "stdout",
     "output_type": "stream",
     "text": [
      "[([[24, 4], [84, 4], [84, 29], [24, 29]], 'R6705', 0.24972091384092732)]\n"
     ]
    },
    {
     "name": "stderr",
     "output_type": "stream",
     "text": [
      "\n",
      "0: 608x640 (no detections), 267.0ms\n",
      "Speed: 12.9ms preprocess, 267.0ms inference, 0.0ms postprocess per image at shape (1, 3, 608, 640)\n"
     ]
    },
    {
     "name": "stdout",
     "output_type": "stream",
     "text": [
      "300\n"
     ]
    },
    {
     "name": "stderr",
     "output_type": "stream",
     "text": [
      "\n",
      "0: 384x640 2 cars, 91.5ms\n",
      "Speed: 0.0ms preprocess, 91.5ms inference, 0.0ms postprocess per image at shape (1, 3, 384, 640)\n",
      "\n",
      "0: 576x640 1 licence, 103.1ms\n",
      "Speed: 1.0ms preprocess, 103.1ms inference, 0.0ms postprocess per image at shape (1, 3, 576, 640)\n",
      "Neither CUDA nor MPS are available - defaulting to CPU. Note: This module is much faster with a GPU.\n"
     ]
    },
    {
     "name": "stdout",
     "output_type": "stream",
     "text": [
      "[([[26, 0], [87, 0], [87, 30], [26, 30]], '8254S', 0.6042668001872413)]\n"
     ]
    },
    {
     "name": "stderr",
     "output_type": "stream",
     "text": [
      "\n",
      "0: 608x640 (no detections), 270.6ms\n",
      "Speed: 13.2ms preprocess, 270.6ms inference, 0.0ms postprocess per image at shape (1, 3, 608, 640)\n"
     ]
    },
    {
     "name": "stdout",
     "output_type": "stream",
     "text": [
      "400\n"
     ]
    },
    {
     "name": "stderr",
     "output_type": "stream",
     "text": [
      "\n",
      "0: 384x640 3 cars, 89.9ms\n",
      "Speed: 0.0ms preprocess, 89.9ms inference, 0.0ms postprocess per image at shape (1, 3, 384, 640)\n",
      "\n",
      "0: 544x640 1 licence, 102.0ms\n",
      "Speed: 0.0ms preprocess, 102.0ms inference, 0.0ms postprocess per image at shape (1, 3, 544, 640)\n",
      "Neither CUDA nor MPS are available - defaulting to CPU. Note: This module is much faster with a GPU.\n"
     ]
    },
    {
     "name": "stdout",
     "output_type": "stream",
     "text": [
      "[([[24, 0], [89, 0], [89, 31], [24, 31]], 'Phie8', 0.22303362461892146)]\n"
     ]
    },
    {
     "name": "stderr",
     "output_type": "stream",
     "text": [
      "\n",
      "0: 576x640 1 licence, 328.1ms\n",
      "Speed: 6.2ms preprocess, 328.1ms inference, 0.0ms postprocess per image at shape (1, 3, 576, 640)\n",
      "Neither CUDA nor MPS are available - defaulting to CPU. Note: This module is much faster with a GPU.\n"
     ]
    },
    {
     "name": "stdout",
     "output_type": "stream",
     "text": [
      "[([[26, 2], [88, 2], [88, 31], [26, 31]], '82545', 0.7288090011496416)]\n"
     ]
    },
    {
     "name": "stderr",
     "output_type": "stream",
     "text": [
      "\n",
      "0: 608x640 (no detections), 249.0ms\n",
      "Speed: 1.8ms preprocess, 249.0ms inference, 0.0ms postprocess per image at shape (1, 3, 608, 640)\n"
     ]
    },
    {
     "name": "stdout",
     "output_type": "stream",
     "text": [
      "500\n"
     ]
    },
    {
     "name": "stderr",
     "output_type": "stream",
     "text": [
      "\n",
      "0: 384x640 4 cars, 83.2ms\n",
      "Speed: 0.0ms preprocess, 83.2ms inference, 0.0ms postprocess per image at shape (1, 3, 384, 640)\n",
      "\n",
      "0: 576x640 1 licence, 100.9ms\n",
      "Speed: 4.0ms preprocess, 100.9ms inference, 0.0ms postprocess per image at shape (1, 3, 576, 640)\n",
      "Neither CUDA nor MPS are available - defaulting to CPU. Note: This module is much faster with a GPU.\n"
     ]
    },
    {
     "name": "stdout",
     "output_type": "stream",
     "text": [
      "[([[24, 2], [87, 2], [87, 31], [24, 31]], '8254S', 0.6994425744572637)]\n"
     ]
    },
    {
     "name": "stderr",
     "output_type": "stream",
     "text": [
      "\n",
      "0: 640x640 1 licence, 283.8ms\n",
      "Speed: 15.2ms preprocess, 283.8ms inference, 0.0ms postprocess per image at shape (1, 3, 640, 640)\n",
      "Neither CUDA nor MPS are available - defaulting to CPU. Note: This module is much faster with a GPU.\n"
     ]
    },
    {
     "name": "stdout",
     "output_type": "stream",
     "text": [
      "[([[22, 0], [73, 0], [73, 25], [22, 25]], '966', 0.36551182423888307)]\n"
     ]
    },
    {
     "name": "stderr",
     "output_type": "stream",
     "text": [
      "\n",
      "0: 608x640 (no detections), 254.5ms\n",
      "Speed: 17.0ms preprocess, 254.5ms inference, 0.0ms postprocess per image at shape (1, 3, 608, 640)\n",
      "\n",
      "0: 544x640 1 licence, 233.5ms\n",
      "Speed: 0.0ms preprocess, 233.5ms inference, 0.0ms postprocess per image at shape (1, 3, 544, 640)\n",
      "Neither CUDA nor MPS are available - defaulting to CPU. Note: This module is much faster with a GPU.\n"
     ]
    },
    {
     "name": "stdout",
     "output_type": "stream",
     "text": [
      "[([[30, 2], [91, 2], [91, 31], [30, 31]], '3k96i', 0.3301467207481333)]\n",
      "600\n"
     ]
    },
    {
     "name": "stderr",
     "output_type": "stream",
     "text": [
      "\n",
      "0: 384x640 3 cars, 129.1ms\n",
      "Speed: 1.0ms preprocess, 129.1ms inference, 0.0ms postprocess per image at shape (1, 3, 384, 640)\n",
      "\n",
      "0: 544x640 1 licence, 82.9ms\n",
      "Speed: 0.0ms preprocess, 82.9ms inference, 15.7ms postprocess per image at shape (1, 3, 544, 640)\n",
      "Neither CUDA nor MPS are available - defaulting to CPU. Note: This module is much faster with a GPU.\n"
     ]
    },
    {
     "name": "stdout",
     "output_type": "stream",
     "text": [
      "[([[28, 4], [88, 4], [88, 30], [28, 30]], 'Y6190', 0.4674469868616977)]\n"
     ]
    },
    {
     "name": "stderr",
     "output_type": "stream",
     "text": [
      "\n",
      "0: 576x640 1 licence, 233.3ms\n",
      "Speed: 17.3ms preprocess, 233.3ms inference, 0.0ms postprocess per image at shape (1, 3, 576, 640)\n",
      "Neither CUDA nor MPS are available - defaulting to CPU. Note: This module is much faster with a GPU.\n"
     ]
    },
    {
     "name": "stdout",
     "output_type": "stream",
     "text": [
      "[([[24, 0], [88, 0], [88, 33], [24, 33]], '82545', 0.3657444511665837)]\n"
     ]
    },
    {
     "name": "stderr",
     "output_type": "stream",
     "text": [
      "\n",
      "0: 608x640 (no detections), 282.7ms\n",
      "Speed: 0.0ms preprocess, 282.7ms inference, 0.0ms postprocess per image at shape (1, 3, 608, 640)\n"
     ]
    },
    {
     "name": "stdout",
     "output_type": "stream",
     "text": [
      "700\n",
      "749\n"
     ]
    }
   ],
   "source": [
    "# Función para pobar el modelo mixto en un vídeo\n",
    "def videoTest(pathVideo):\n",
    "    cap = cv2.VideoCapture(pathVideo)\n",
    "\n",
    "    if not cap.isOpened():\n",
    "        print(\"Error al abrir el vídeo\")    \n",
    "        exit()\n",
    "    \n",
    "    nFrames = 0\n",
    "    while True:\n",
    "        ret, frame = cap.read()\n",
    "\n",
    "        if not ret:\n",
    "            break\n",
    "\n",
    "        # mixModels(frame)\n",
    "        nFrames += 1\n",
    "        if nFrames % 100 == 0:\n",
    "            mixModels(frame)\n",
    "            print(nFrames)\n",
    "            cv2.imshow('Video', frame)\n",
    "            key = cv2.waitKey(0) & 0xFF\n",
    "            \n",
    "        \n",
    "        cv2.imshow('Video', frame)\n",
    "\n",
    "        if cv2.waitKey(3) & 0xFF == ord('q'):\n",
    "            break\n",
    "    \n",
    "    cap.release()\n",
    "    cv2.destroyAllWindows()\n",
    "    print(nFrames)\n",
    "\n",
    "\n",
    "videoTest('videos/Traffic IP Camera.mp4')"
   ]
  }
 ],
 "metadata": {
  "kernelspec": {
   "display_name": "Python 3.9.13 ('yolov7')",
   "language": "python",
   "name": "python3"
  },
  "language_info": {
   "codemirror_mode": {
    "name": "ipython",
    "version": 3
   },
   "file_extension": ".py",
   "mimetype": "text/x-python",
   "name": "python",
   "nbconvert_exporter": "python",
   "pygments_lexer": "ipython3",
   "version": "3.11.5"
  },
  "orig_nbformat": 4,
  "vscode": {
   "interpreter": {
    "hash": "54711ba1bddc392d48ca20e80feaa9b2e23d43069aa8b98ed16355091034ff6e"
   }
  }
 },
 "nbformat": 4,
 "nbformat_minor": 2
}
