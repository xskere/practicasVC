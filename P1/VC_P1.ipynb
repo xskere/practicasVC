{
 "cells": [
  {
   "cell_type": "markdown",
   "id": "2d9ab88a85a72d7e",
   "metadata": {
    "collapsed": false
   },
   "source": [
    "Estas tareas para la práctica de Visión por Computador fueron realizadas por los alumnos:\n",
    "\n",
    "Nauzet Déniz Perdomo,\n",
    "Alejandro Rodríguez Moreno"
   ]
  },
  {
   "cell_type": "code",
   "execution_count": 1,
   "id": "initial_id",
   "metadata": {
    "ExecuteTime": {
     "end_time": "2023-09-15T11:56:22.161772300Z",
     "start_time": "2023-09-15T11:56:22.127911400Z"
    },
    "collapsed": true
   },
   "outputs": [],
   "source": [
    "import cv2  \n",
    "import numpy as np\n",
    "import matplotlib.pyplot as plt"
   ]
  },
  {
   "cell_type": "markdown",
   "id": "7e7f8c628515e8e8",
   "metadata": {
    "collapsed": false
   },
   "source": [
    "TAREA: Crea una imagen, p.e. 800x800, con la textura del tablero de ajedrez"
   ]
  },
  {
   "cell_type": "code",
   "execution_count": 5,
   "id": "dfedc2a70f6194e7",
   "metadata": {
    "ExecuteTime": {
     "end_time": "2023-09-15T11:56:22.241354400Z",
     "start_time": "2023-09-15T11:56:22.134648200Z"
    },
    "collapsed": false
   },
   "outputs": [
    {
     "name": "stdout",
     "output_type": "stream",
     "text": [
      "(800, 800, 1)\n"
     ]
    },
    {
     "data": {
      "image/png": "[encoded data removed]",
      "text/plain": [
       "<Figure size 640x480 with 1 Axes>"
      ]
     },
     "metadata": {},
     "output_type": "display_data"
    }
   ],
   "source": [
    "ajedrez = np.zeros((800,800,1), dtype = np.uint8)\n",
    "\n",
    "x=y=0\n",
    "black =1\n",
    "\n",
    "while y != 900:\n",
    "    while x != 900:\n",
    "        if black == 1:\n",
    "            ajedrez[x:x+100,y:y+100,:] = 0\n",
    "            black = 0\n",
    "        else:\n",
    "            ajedrez[x:x+100,y:y+100,:] = 255\n",
    "            black = 1\n",
    "        x +=100\n",
    "    x = 0\n",
    "    y += 100\n",
    "    \n",
    "#Dimensiones\n",
    "print(ajedrez.shape)\n",
    "#Visualiza sin especificar el mapa de color gris\n",
    "plt.imshow(ajedrez, cmap=\"gray\") \n",
    "plt.show()"
   ]
  },
  {
   "cell_type": "markdown",
   "id": "e82243bdf13f1af2",
   "metadata": {
    "collapsed": false
   },
   "source": [
    "TAREA: Crear una imagen estilo Mondrian (un ejemplo https://www3.gobiernodecanarias.org/medusa/ecoescuela/sa/2017/04/17/descubriendo-a-mondrian/ )"
   ]
  },
  {
   "cell_type": "code",
   "execution_count": 6,
   "id": "ce1468e3167d6d9c",
   "metadata": {
    "ExecuteTime": {
     "end_time": "2023-09-15T11:56:22.338807100Z",
     "start_time": "2023-09-15T11:56:22.249869200Z"
    },
    "collapsed": false
   },
   "outputs": [
    {
     "data": {
      "image/png": "[encoded data removed]",
      "text/plain": [
       "<Figure size 640x480 with 1 Axes>"
      ]
     },
     "metadata": {},
     "output_type": "display_data"
    },
    {
     "data": {
      "text/plain": [
       "True"
      ]
     },
     "execution_count": 6,
     "metadata": {},
     "output_type": "execute_result"
    }
   ],
   "source": [
    "ancho = 200\n",
    "alto = 300\n",
    "\n",
    "#Crea una imagen con tres planos\n",
    "color_img = np.zeros((200,200,3), dtype = np.uint8)\n",
    "color_img[:,:,:] = 255\n",
    "\n",
    "cv2.line(color_img,(int(ancho/2),0),(int(ancho/2),alto),(0,0,0),3)\n",
    "cv2.line(color_img,(100,100),(200,100),(0,0,0),3)\n",
    "cv2.line(color_img,(0,int(alto/6)),(ancho,int(alto/6)),(0,0,0),3)\n",
    "cv2.line(color_img,(0,200-int(alto/6)),(ancho,200-int(alto/6)),(0,0,0),3)\n",
    "cv2.line(color_img,(200-int(ancho/6),0),(200-int(ancho/6),alto),(0,0,0),3)\n",
    "cv2.line(color_img,(int(ancho/6),0),(int(ancho/6),150),(0,0,0),3)\n",
    "\n",
    "\n",
    "#Rectangle ---> imagen, INICIO vertice (x,y), FINAL vertice (x,y), grosor int o relleno -1\n",
    "cv2.rectangle(color_img,(103,53),(200-int(ancho/6)-3,97),(255,0,0),-1)\n",
    "cv2.rectangle(color_img,(103,103),(200-int(ancho/6)-3,147),(0,255,0),-1)\n",
    "cv2.rectangle(color_img,(103,153),(200-int(ancho/6)-3,200),(0,0,255),-1)\n",
    "cv2.rectangle(color_img,(0,153),(97,200),(255,0,255),-1)\n",
    "cv2.rectangle(color_img,(0,53),(int(ancho/6)-3,147),(0,240,255),-1)\n",
    "cv2.rectangle(color_img,(0,0),(int(ancho/6)-3,47),(120,100,255),-1)\n",
    "cv2.rectangle(color_img,(int(ancho/6)+3,0),(97,47),(120,100,40),-1)\n",
    "cv2.rectangle(color_img,(103,0),(197-int(ancho/6),47),(120,44,40),-1)\n",
    "cv2.rectangle(color_img,(203-int(ancho/6),0),(200,47),(200,144,40),-1)\n",
    "cv2.rectangle(color_img,(203-int(ancho/6),53),(200,97),(123,144,40),-1)\n",
    "cv2.rectangle(color_img,(203-int(ancho/6),103),(200,147),(163,140,140),-1)\n",
    "cv2.rectangle(color_img,(203-int(ancho/6),153),(200,200),(255,44,100),-1)\n",
    "\n",
    "\n",
    "#Visualiza sin especificar el mapa de color gris\n",
    "plt.imshow(color_img) \n",
    "plt.show()\n",
    "\n",
    "\n",
    "#Salva la imagen resultante a disco\n",
    "cv2.imwrite('imagen.jpg', color_img)"
   ]
  },
  {
   "cell_type": "markdown",
   "id": "4b70cd01c2fe5e93",
   "metadata": {
    "collapsed": false
   },
   "source": [
    "TAREA: Pintar círculos en las posiciones del píxel más claro y oscuro de la imagen  ¿Si quisieras hacerlo sobre la zona 8x8 más clara/oscura?"
   ]
  },
  {
   "cell_type": "code",
   "execution_count": 5,
   "id": "7494fed609b76036",
   "metadata": {
    "ExecuteTime": {
     "end_time": "2023-09-15T11:56:22.338807100Z",
     "start_time": "2023-09-15T11:56:22.334787300Z"
    },
    "collapsed": false
   },
   "outputs": [],
   "source": [
    "# Función de refresco de los puntos de más y menos brillo\n",
    "def refreshBrightness(ret, frame, w, h):\n",
    "    maxBright = maxX = maxY = minX = minY = 0\n",
    "    minBright = 765\n",
    "    if ret:\n",
    "        x = y = 0\n",
    "        while x < w:\n",
    "            while y < h:\n",
    "                bright = int(frame[y, x, 2]) + int(frame[y, x, 1]) + int(frame[y, x, 0])\n",
    "                if bright > maxBright:\n",
    "                    maxX = x\n",
    "                    maxY = y\n",
    "                    maxBright = bright\n",
    "                if bright < minBright:\n",
    "                    minX = x\n",
    "                    minY = y\n",
    "                    minBright = bright\n",
    "                y += 1\n",
    "            y = 0\n",
    "            x += 1\n",
    "        return maxX, maxY, minX, minY\n",
    "\n",
    "vid = cv2.VideoCapture(0)\n",
    "\n",
    "# Dimensiones de la webcam\n",
    "w = int(vid.get(cv2.CAP_PROP_FRAME_WIDTH))\n",
    "h = int(vid.get(cv2.CAP_PROP_FRAME_HEIGHT))\n",
    "\n",
    "# Bucle donde se muestra los fotogramas de la webcam\n",
    "while(True):\n",
    "    ret, frame = vid.read()\n",
    "\n",
    "    # Obtenemos los valores X e Y donde estan el pixel más y menos brillante\n",
    "    maxX, maxY, minX, minY = refreshBrightness(ret, frame, w, h)\n",
    "\n",
    "    # Añadimos los círculos a los píxeles \n",
    "    cv2.circle(frame,(maxX,maxY),3,(0,0,0),-1)\n",
    "    cv2.circle(frame,(minX,minY),3,(255,255,255),-1)\n",
    "\n",
    "    # Muestra imagen de webcam con los círculos\n",
    "    if ret:\n",
    "        cv2.imshow('Cam', frame)\n",
    "\n",
    "    # Detenemos pulsado ESC\n",
    "    if cv2.waitKey(20) == 27:\n",
    "        break\n",
    "  \n",
    "# Libera el objeto de captura\n",
    "vid.release()\n",
    "# Destruye ventanas\n",
    "cv2.destroyAllWindows()"
   ]
  },
  {
   "cell_type": "code",
   "execution_count": 9,
   "id": "96f42d8a",
   "metadata": {},
   "outputs": [],
   "source": [
    "# Función de refresco de los puntos de más y menos brillo\n",
    "def refreshBrightness8x8(ret, frame, w, h):\n",
    "    maxBright = maxX = maxY = minX = minY = bright = 0\n",
    "    minBright = 48960\n",
    "    if ret:\n",
    "        x = y = x1 = y1 = 0\n",
    "        while x < w - 7:\n",
    "            while y < h - 7:\n",
    "                x1 = x\n",
    "                while x1 < x + 8:\n",
    "                    y1 = y\n",
    "                    while y1 < y + 8:\n",
    "                        bright += int(frame[y1,x1,2]) + int(frame[y1,x1,1]) + int(frame[y1,x1,0])\n",
    "                        y1 += 1\n",
    "                    x1 += 1\n",
    "                if bright > maxBright:\n",
    "                    maxX = x\n",
    "                    maxY = y\n",
    "                    maxBright = bright\n",
    "                if bright < minBright:\n",
    "                    minX = x\n",
    "                    minY = y\n",
    "                    minBright = bright\n",
    "                bright = 0\n",
    "                y += 1\n",
    "            y = 0\n",
    "            x += 1\n",
    "        return maxX, maxY, minX, minY\n",
    "    \n",
    "vid = cv2.VideoCapture(0)\n",
    "\n",
    "# Dimensiones de la webcam\n",
    "w = int(vid.get(cv2.CAP_PROP_FRAME_WIDTH))\n",
    "h = int(vid.get(cv2.CAP_PROP_FRAME_HEIGHT))\n",
    "\n",
    "timer = 501\n",
    "\n",
    "# Bucle donde se muestra los fotogramas de la webcam\n",
    "while(True):\n",
    "    ret, frame = vid.read()\n",
    "    \n",
    "    # Temporizador para evitar ralentizar demasiado la webcam\n",
    "    if timer > 500:\n",
    "       # Obtenemos los valores X e Y donde estan el pixel más y menos brillante\n",
    "       maxX, maxY, minX, minY = refreshBrightness8x8(ret, frame, w, h)\n",
    "       timer = 0\n",
    "       \n",
    "    timer += 1\n",
    "\n",
    "    # Añadimos los círculos a los píxeles \n",
    "    cv2.circle(frame,(maxX+3,maxY+3),4,(0,0,0),1)\n",
    "    cv2.circle(frame,(minX+3,minY+3),4,(255,255,255),1)\n",
    "\n",
    "    # Muestra imagen de webcam con los círculos\n",
    "    if ret:\n",
    "        cv2.imshow('Cam', frame)\n",
    "\n",
    "    # Detenemos pulsado ESC\n",
    "    if cv2.waitKey(20) == 27:\n",
    "        break\n",
    "  \n",
    "# Libera el objeto de captura\n",
    "vid.release()\n",
    "# Destruye ventanas\n",
    "cv2.destroyAllWindows()"
   ]
  },
  {
   "cell_type": "markdown",
   "id": "f7123554373e0b1e",
   "metadata": {
    "collapsed": false
   },
   "source": [
    "TAREA: Haz tu propuesta pop art"
   ]
  },
  {
   "cell_type": "code",
   "execution_count": 7,
   "id": "f1bf6707c152a53b",
   "metadata": {
    "ExecuteTime": {
     "end_time": "2023-09-15T11:56:28.887934Z",
     "start_time": "2023-09-15T11:56:22.341312500Z"
    },
    "collapsed": false
   },
   "outputs": [
    {
     "ename": "KeyboardInterrupt",
     "evalue": "",
     "output_type": "error",
     "traceback": [
      "\u001b[1;31m---------------------------------------------------------------------------\u001b[0m",
      "\u001b[1;31mKeyboardInterrupt\u001b[0m                         Traceback (most recent call last)",
      "\u001b[1;32m~\\AppData\\Local\\Temp\\ipykernel_7184\\1187255112.py\u001b[0m in \u001b[0;36m<module>\u001b[1;34m\u001b[0m\n\u001b[0;32m     30\u001b[0m \u001b[1;33m\u001b[0m\u001b[0m\n\u001b[0;32m     31\u001b[0m     \u001b[1;31m# Detenemos pulsado ESC\u001b[0m\u001b[1;33m\u001b[0m\u001b[1;33m\u001b[0m\u001b[1;33m\u001b[0m\u001b[0m\n\u001b[1;32m---> 32\u001b[1;33m     \u001b[1;32mif\u001b[0m \u001b[0mcv2\u001b[0m\u001b[1;33m.\u001b[0m\u001b[0mwaitKey\u001b[0m\u001b[1;33m(\u001b[0m\u001b[1;36m20\u001b[0m\u001b[1;33m)\u001b[0m \u001b[1;33m==\u001b[0m \u001b[1;36m27\u001b[0m\u001b[1;33m:\u001b[0m\u001b[1;33m\u001b[0m\u001b[1;33m\u001b[0m\u001b[0m\n\u001b[0m\u001b[0;32m     33\u001b[0m         \u001b[1;32mbreak\u001b[0m\u001b[1;33m\u001b[0m\u001b[1;33m\u001b[0m\u001b[0m\n\u001b[0;32m     34\u001b[0m \u001b[1;33m\u001b[0m\u001b[0m\n",
      "\u001b[1;31mKeyboardInterrupt\u001b[0m: "
     ]
    }
   ],
   "source": [
    "vid = cv2.VideoCapture(0)\n",
    "\n",
    "ncells = 15\n",
    "\n",
    "while(True):      \n",
    "    # fotograma a fotograma\n",
    "    ret, frame = vid.read()\n",
    "\n",
    "    if ret:\n",
    "        #Dimensiones originales\n",
    "        h, w, c = frame.shape\n",
    "        #Redimensiono\n",
    "        down_frame = cv2.resize(frame, (int(w/ncells),int(h/ncells)),cv2.INTER_NEAREST)\n",
    "        #Dimensiones reducidas\n",
    "        h2, w2, c2 = down_frame.shape\n",
    "        \n",
    "        # Creamos imagen negra\n",
    "        lentejuelasFrame = np.zeros((h2*ncells,w2*ncells,3), dtype = np.uint8)\n",
    "\n",
    "        for y in range(0,h2):\n",
    "            for x in range(0,w2):\n",
    "                # Crea circulos de radio ncells cogiendo como color del circulo, el centro de este   \n",
    "                cv2.circle(lentejuelasFrame,(x*ncells, y*ncells), ncells, (int(down_frame[y,x,0]),int(down_frame[y,x,1]),int(down_frame[y,x,2])), -1)\n",
    "                # Esta simplemente pixela la imagen     \n",
    "                # cv2.rectangle(pixelframe,(x*ncells, y*ncells), (x*ncells+ ncells*3*2, y*ncells+ ncells*3*2), (int(r[y,x]),int(g[y,x]),int(b[y,x])), -1)\n",
    "\n",
    "\n",
    "        # Muestra fotograma resultante\n",
    "        cv2.imshow('Cam lentejuelas', lentejuelasFrame)\n",
    "    \n",
    "    # Detenemos pulsado ESC\n",
    "    if cv2.waitKey(20) == 27:\n",
    "        break\n",
    "  \n",
    "# Libera el objeto de captura\n",
    "vid.release()\n",
    "# Destruye ventanas\n",
    "cv2.destroyAllWindows()"
   ]
  }
 ],
 "metadata": {
  "kernelspec": {
   "display_name": "Python 3",
   "language": "python",
   "name": "python3"
  },
  "language_info": {
   "codemirror_mode": {
    "name": "ipython",
    "version": 3
   },
   "file_extension": ".py",
   "mimetype": "text/x-python",
   "name": "python",
   "nbconvert_exporter": "python",
   "pygments_lexer": "ipython3",
   "version": "3.11.5"
  }
 },
 "nbformat": 4,
 "nbformat_minor": 5
}
